{
 "cells": [
  {
   "cell_type": "code",
   "execution_count": 1,
   "metadata": {},
   "outputs": [],
   "source": [
    "#Obtenido de https://www.kaggle.com/code/prathamsharma123/clean-raw-json-tweets-data\n",
    "# Importing required libraries\n",
    "\n",
    "import pandas as pd\n",
    "from pandas.io.json import json_normalize\n",
    "import warnings\n",
    "warnings.filterwarnings(\"ignore\")"
   ]
  },
  {
   "cell_type": "code",
   "execution_count": 2,
   "metadata": {},
   "outputs": [],
   "source": [
    "# Read JSON file containing tweets data obtenido de https://www.kaggle.com/code/prathamsharma123/clean-raw-json-tweets-data\n",
    "\n",
    "raw_tweets = pd.read_json('farmers-protest-tweets-2021-03-5.json', lines=True)\n",
    "\n"
   ]
  },
  {
   "cell_type": "code",
   "execution_count": 3,
   "metadata": {},
   "outputs": [],
   "source": [
    "users = json_normalize(raw_tweets['user'])\n",
    "users.drop(['description', 'linkTcourl'], axis=1, inplace=True)\n",
    "users.rename(columns={'id':'userId', 'url':'profileUrl'}, inplace=True)\n"
   ]
  },
  {
   "cell_type": "code",
   "execution_count": 4,
   "metadata": {},
   "outputs": [],
   "source": [
    "# Create DataFrame and remove duplicates\n",
    "\n",
    "users = pd.DataFrame(users)\n",
    "users.drop_duplicates(subset=['userId'], inplace=True)\n"
   ]
  },
  {
   "cell_type": "code",
   "execution_count": 5,
   "metadata": {},
   "outputs": [],
   "source": [
    "# Transform 'raw_tweets' DataFrame\n",
    "\n",
    "# Add column for 'userId'\n",
    "user_id = []\n",
    "for user in raw_tweets['user']:\n",
    "    uid = user['id']\n",
    "    user_id.append(uid)\n",
    "raw_tweets['userId'] = user_id\n",
    "\n",
    "# Remove less important columns\n",
    "cols = ['url', 'date', 'renderedContent', 'id', 'userId', 'replyCount', 'retweetCount', 'likeCount', 'quoteCount', 'source', 'media', 'retweetedTweet', 'quotedTweet', 'mentionedUsers']\n",
    "tweets = raw_tweets[cols]\n",
    "tweets.rename(columns={'id':'tweetId', 'url':'tweetUrl'}, inplace=True)\n"
   ]
  },
  {
   "cell_type": "code",
   "execution_count": 6,
   "metadata": {},
   "outputs": [],
   "source": [
    "# Convert to DataFrame, remove duplicates and keep only English tweets\n",
    "\n",
    "tweets = pd.DataFrame(tweets)\n",
    "tweets.drop_duplicates(subset=['tweetId'], inplace=True)\n"
   ]
  },
  {
   "cell_type": "code",
   "execution_count": 7,
   "metadata": {},
   "outputs": [
    {
     "data": {
      "text/plain": [
       "408128    why aren’t we talking about this?! #FarmersPro...\n",
       "395142    We stand in solidarity with the #FarmersProtes...\n",
       "266196    I still #StandWithFarmers and support their pe...\n",
       "366579    “Paid actors,” huh? Quite the casting director...\n",
       "372793    What in the human rights violations is going o...\n",
       "314192    Happy to share that I’ve donated $10,000 to pr...\n",
       "215034    There has been much social media coverage arou...\n",
       "398011    Farmers feed the world. Fight for them. Protec...\n",
       "325261    Should be talking about this! #FarmersProtest\\...\n",
       "163689    To all of my influencer/celeb friends- read up...\n",
       "Name: renderedContent, dtype: object"
      ]
     },
     "execution_count": 7,
     "metadata": {},
     "output_type": "execute_result"
    }
   ],
   "source": [
    "def top_10_tweets():\n",
    "    return tweets.nlargest(10, 'retweetCount')['renderedContent']"
   ]
  },
  {
   "cell_type": "code",
   "execution_count": 8,
   "metadata": {},
   "outputs": [
    {
     "data": {
      "text/plain": [
       "userId\n",
       "980633168981061632     7134\n",
       "69027875               2091\n",
       "2930682630             1991\n",
       "452391771              1841\n",
       "1354532795847073796    1806\n",
       "48085084               1722\n",
       "872085660886282240     1502\n",
       "1340186972615307264    1460\n",
       "1309302936317636608    1453\n",
       "921732117024919552     1446\n",
       "Name: tweetUrl, dtype: int64"
      ]
     },
     "execution_count": 8,
     "metadata": {},
     "output_type": "execute_result"
    }
   ],
   "source": [
    "def top_10_usuarios():\n",
    "    tweets_agrupados = tweets.groupby(['userId']).count()\n",
    "    return tweets_agrupados.nlargest(10, 'tweetUrl')['tweetUrl']"
   ]
  },
  {
   "cell_type": "code",
   "execution_count": 9,
   "metadata": {},
   "outputs": [
    {
     "data": {
      "text/plain": [
       "date\n",
       "2021-02-01 22:48:17+00:00    19\n",
       "2021-02-03 18:42:09+00:00     8\n",
       "2021-02-03 20:12:09+00:00     8\n",
       "2021-02-02 07:21:31+00:00     7\n",
       "2021-02-03 05:52:37+00:00     7\n",
       "2021-02-03 05:54:11+00:00     7\n",
       "2021-02-03 06:02:01+00:00     7\n",
       "2021-02-03 07:21:46+00:00     7\n",
       "2021-02-03 07:44:53+00:00     7\n",
       "2021-02-03 07:49:13+00:00     7\n",
       "Name: tweetUrl, dtype: int64"
      ]
     },
     "execution_count": 9,
     "metadata": {},
     "output_type": "execute_result"
    }
   ],
   "source": [
    "def top_10_dias():\n",
    "    tweets_agrupados_dias = tweets.groupby(['date']).count()\n",
    "    return tweets_agrupados_dias.nlargest(10, 'tweetUrl')['tweetUrl']"
   ]
  },
  {
   "cell_type": "code",
   "execution_count": 57,
   "metadata": {},
   "outputs": [],
   "source": [
    "import re\n",
    "from collections import Counter\n",
    "\n",
    "\n",
    "def top_10_hashtags():\n",
    "    lista_hash = list()\n",
    "    # iterating over rows using iterrows() function\n",
    "    for index, row in tweets.iterrows():\n",
    "        txt = row['renderedContent']\n",
    "        lista_hashtags = [lista_hash.append(t) for t in txt.split() if t.startswith('#')]\n",
    "    sabe = Counter(lista_hash)\n",
    "    return sorted(sabe, key=sabe.get, reverse=True)[:10]"
   ]
  },
  {
   "cell_type": "code",
   "execution_count": 61,
   "metadata": {},
   "outputs": [],
   "source": [
    "def main():\n",
    "    while True:\n",
    "        print(\"Que funcion deseas usar? 1) 2) 3) 4)\")\n",
    "        decision = input()\n",
    "        if decision == 1:\n",
    "            top_10_tweets()\n",
    "        elif decision == 2:\n",
    "            top_10_usuarios()\n",
    "        elif decision == 3:\n",
    "            top_10_dias()\n",
    "        elif decision == 4:\n",
    "            top_10_hashtags()"
   ]
  }
 ],
 "metadata": {
  "colab": {
   "collapsed_sections": [],
   "name": "Guía 5",
   "provenance": []
  },
  "kernelspec": {
   "display_name": "Python 3",
   "language": "python",
   "name": "python3"
  },
  "language_info": {
   "codemirror_mode": {
    "name": "ipython",
    "version": 3
   },
   "file_extension": ".py",
   "mimetype": "text/x-python",
   "name": "python",
   "nbconvert_exporter": "python",
   "pygments_lexer": "ipython3",
   "version": "3.7.4"
  }
 },
 "nbformat": 4,
 "nbformat_minor": 1
}
